{
 "cells": [
  {
   "cell_type": "code",
   "execution_count": 1,
   "id": "7c077a11",
   "metadata": {},
   "outputs": [],
   "source": [
    "from sklearn.datasets import make_moons\n",
    "import matplotlib.pyplot as plt\n",
    "from sklearn.tree import DecisionTreeClassifier\n",
    "import numpy as np\n",
    "from matplotlib import colors"
   ]
  },
  {
   "cell_type": "code",
   "execution_count": 2,
   "id": "aff4ac86",
   "metadata": {},
   "outputs": [
    {
     "name": "stdout",
     "output_type": "stream",
     "text": [
      "train accuracy = 0.93\n"
     ]
    }
   ],
   "source": [
    "X, y = make_moons(n_samples=100, shuffle=True, noise=None, random_state=None)\n",
    "\n",
    "model = DecisionTreeClassifier(max_depth=4)\n",
    "model.fit(X, y)\n",
    "print(f\"train accuracy = {model.score(X, y)}\")"
   ]
  },
  {
   "cell_type": "code",
   "execution_count": 3,
   "id": "5d58837e",
   "metadata": {},
   "outputs": [
    {
     "name": "stdout",
     "output_type": "stream",
     "text": [
      "(646, 2)\n"
     ]
    }
   ],
   "source": [
    "x_min = np.min(X[:,0]) - 0.2\n",
    "y_min = np.min(X[:,1]) - 0.2\n",
    "x_max = np.max(X[:,0]) + 0.2\n",
    "y_max = np.max(X[:,1]) + 0.2\n",
    "plot_step_coarser = 0.1\n",
    "    \n",
    "xx_generator, yy_generator = np.meshgrid(np.arange(x_min, x_max, plot_step_coarser),\n",
    "                                         np.arange(y_min, y_max, plot_step_coarser))\n",
    "grid_points = np.c_[xx_generator.ravel(), yy_generator.ravel()]\n",
    "print(grid_points.shape)\n",
    "grid_pred = model.predict(grid_points)"
   ]
  },
  {
   "cell_type": "code",
   "execution_count": 15,
   "id": "92a38a44",
   "metadata": {},
   "outputs": [
    {
     "data": {
      "text/plain": [
       "(100,)"
      ]
     },
     "execution_count": 15,
     "metadata": {},
     "output_type": "execute_result"
    }
   ],
   "source": [
    "y.shape"
   ]
  },
  {
   "cell_type": "code",
   "execution_count": 16,
   "id": "17063414",
   "metadata": {},
   "outputs": [
    {
     "data": {
      "text/plain": [
       "array([1, 1, 0, 1, 1, 0, 1, 0, 0, 0, 0, 1, 0, 1, 0, 0, 1, 0, 1, 0, 0, 1,\n",
       "       1, 1, 0, 1, 1, 0, 1, 1, 0, 1, 1, 1, 0, 0, 0, 1, 1, 0, 0, 0, 0, 0,\n",
       "       1, 1, 1, 1, 1, 0, 1, 0, 0, 1, 0, 1, 0, 1, 0, 0, 1, 0, 1, 1, 0, 1,\n",
       "       1, 0, 1, 0, 0, 0, 1, 0, 1, 0, 1, 0, 1, 0, 1, 1, 0, 1, 0, 0, 0, 1,\n",
       "       0, 1, 0, 1, 1, 0, 0, 1, 1, 1, 0, 0])"
      ]
     },
     "execution_count": 16,
     "metadata": {},
     "output_type": "execute_result"
    }
   ],
   "source": [
    "y"
   ]
  },
  {
   "cell_type": "code",
   "execution_count": 4,
   "id": "c1ab7e92",
   "metadata": {},
   "outputs": [
    {
     "data": {
      "image/png": "[encoded data removed]",
      "text/plain": [
       "<Figure size 640x480 with 1 Axes>"
      ]
     },
     "metadata": {},
     "output_type": "display_data"
    }
   ],
   "source": [
    "plt.figure()\n",
    "cmap = colors.ListedColormap(['r','b'])\n",
    "\n",
    "plt.scatter(X[y==0,0], X[y==0,1], c='r', marker='v', s=16)\n",
    "plt.scatter(X[y==1,0], X[y==1,1], c='b', marker='o', s=16)\n",
    "plt.gca().set_aspect('equal')\n",
    "plt.imshow(np.flip(grid_pred.reshape((xx_generator.shape[0],xx_generator.shape[1])), axis=0), extent=[x_min, x_max, y_min, y_max], cmap=cmap, alpha=0.4)\n",
    "plt.show()"
   ]
  }
 ],
 "metadata": {
  "kernelspec": {
   "display_name": "tensor",
   "language": "python",
   "name": "tensor"
  },
  "language_info": {
   "codemirror_mode": {
    "name": "ipython",
    "version": 3
   },
   "file_extension": ".py",
   "mimetype": "text/x-python",
   "name": "python",
   "nbconvert_exporter": "python",
   "pygments_lexer": "ipython3",
   "version": "3.9.13"
  }
 },
 "nbformat": 4,
 "nbformat_minor": 5
}
