{
 "cells": [
  {
   "cell_type": "markdown",
   "id": "5dea7e91",
   "metadata": {},
   "source": [
    "<h2>Attempting to visualize decision tree with multiple classes</h2>"
   ]
  },
  {
   "cell_type": "code",
   "execution_count": 20,
   "id": "7c077a11",
   "metadata": {},
   "outputs": [],
   "source": [
    "from sklearn.datasets import make_moons\n",
    "import matplotlib.pyplot as plt\n",
    "from sklearn.tree import DecisionTreeClassifier\n",
    "import numpy as np\n",
    "from matplotlib import colors"
   ]
  },
  {
   "cell_type": "code",
   "execution_count": 36,
   "id": "aff4ac86",
   "metadata": {},
   "outputs": [],
   "source": [
    "# sampling from a normal distribution N(0,1) for k=5 classes\n",
    "X = []\n",
    "y = []\n",
    "\n",
    "n_samples = 100\n",
    "for i in range(n_samples):\n",
    "    X.append([np.random.normal(0,1), np.random.normal(0,1)])\n",
    "    y.append(np.random.randint(0,5))\n",
    "\n",
    "X = np.array(X)\n",
    "y = np.array(y)"
   ]
  },
  {
   "cell_type": "code",
   "execution_count": 37,
   "id": "05ba63f9",
   "metadata": {},
   "outputs": [
    {
     "data": {
      "text/plain": [
       "(100, 2)"
      ]
     },
     "execution_count": 37,
     "metadata": {},
     "output_type": "execute_result"
    }
   ],
   "source": [
    "X.shape"
   ]
  },
  {
   "cell_type": "code",
   "execution_count": 38,
   "id": "c8ad88ee",
   "metadata": {},
   "outputs": [
    {
     "data": {
      "text/plain": [
       "(100,)"
      ]
     },
     "execution_count": 38,
     "metadata": {},
     "output_type": "execute_result"
    }
   ],
   "source": [
    "y.shape"
   ]
  },
  {
   "cell_type": "code",
   "execution_count": 39,
   "id": "0d25c581",
   "metadata": {},
   "outputs": [
    {
     "data": {
      "text/plain": [
       "array([0, 1, 3, 0, 2, 0, 3, 3, 1, 2, 3, 0, 2, 1, 2, 4, 0, 3, 3, 0, 0, 2,\n",
       "       2, 0, 3, 3, 3, 3, 0, 1, 3, 2, 4, 1, 4, 3, 2, 1, 4, 3, 2, 4, 1, 1,\n",
       "       0, 1, 2, 3, 2, 2, 0, 3, 3, 4, 4, 2, 0, 1, 4, 3, 4, 0, 4, 3, 1, 3,\n",
       "       2, 0, 3, 1, 3, 0, 0, 0, 3, 0, 0, 2, 2, 2, 2, 0, 4, 3, 2, 3, 0, 3,\n",
       "       1, 1, 1, 2, 4, 4, 0, 1, 4, 0, 3, 2])"
      ]
     },
     "execution_count": 39,
     "metadata": {},
     "output_type": "execute_result"
    }
   ],
   "source": [
    "y"
   ]
  },
  {
   "cell_type": "code",
   "execution_count": 40,
   "id": "37ec444d",
   "metadata": {},
   "outputs": [
    {
     "name": "stdout",
     "output_type": "stream",
     "text": [
      "train accuracy = 0.89\n"
     ]
    }
   ],
   "source": [
    "model = DecisionTreeClassifier(max_depth=10)\n",
    "model.fit(X, y)\n",
    "print(f\"train accuracy = {model.score(X, y)}\")"
   ]
  },
  {
   "cell_type": "code",
   "execution_count": 41,
   "id": "f72927ff",
   "metadata": {},
   "outputs": [
    {
     "name": "stdout",
     "output_type": "stream",
     "text": [
      "(2703, 2)\n"
     ]
    }
   ],
   "source": [
    "x_min = np.min(X[:,0]) - 0.2\n",
    "y_min = np.min(X[:,1]) - 0.2\n",
    "x_max = np.max(X[:,0]) + 0.2\n",
    "y_max = np.max(X[:,1]) + 0.2\n",
    "plot_step_coarser = 0.1\n",
    "    \n",
    "xx_generator, yy_generator = np.meshgrid(np.arange(x_min, x_max, plot_step_coarser),\n",
    "                                         np.arange(y_min, y_max, plot_step_coarser))\n",
    "grid_points = np.c_[xx_generator.ravel(), yy_generator.ravel()]\n",
    "print(grid_points.shape)\n",
    "grid_pred = model.predict(grid_points)"
   ]
  },
  {
   "cell_type": "code",
   "execution_count": 42,
   "id": "25695c58",
   "metadata": {},
   "outputs": [
    {
     "data": {
      "text/plain": [
       "array([-0.52609093, -1.44794843])"
      ]
     },
     "execution_count": 42,
     "metadata": {},
     "output_type": "execute_result"
    }
   ],
   "source": [
    "X[0]"
   ]
  },
  {
   "cell_type": "code",
   "execution_count": 43,
   "id": "e299949d",
   "metadata": {},
   "outputs": [
    {
     "data": {
      "text/plain": [
       "array([2, 2, 2, ..., 2, 2, 2])"
      ]
     },
     "execution_count": 43,
     "metadata": {},
     "output_type": "execute_result"
    }
   ],
   "source": [
    "grid_pred"
   ]
  },
  {
   "cell_type": "code",
   "execution_count": 45,
   "id": "36a75665",
   "metadata": {},
   "outputs": [
    {
     "data": {
      "image/png": "[encoded data removed]",
      "text/plain": [
       "<Figure size 640x480 with 1 Axes>"
      ]
     },
     "metadata": {},
     "output_type": "display_data"
    }
   ],
   "source": [
    "# FIX ME: try to match the point colors with their respective classes\n",
    "plt.figure()\n",
    "cmap = colors.ListedColormap(['y','c','g','m','r'])\n",
    "\n",
    "plt.scatter(X[y==0,0], X[y==0,1], c='r', marker='v', s=16)\n",
    "plt.scatter(X[y==1,0], X[y==1,1], c='b', marker='o', s=16)\n",
    "plt.gca().set_aspect('equal')\n",
    "plt.imshow(np.flip(grid_pred.reshape((xx_generator.shape[0],xx_generator.shape[1])), axis=0), extent=[x_min, x_max, y_min, y_max], cmap=cmap, alpha=0.4)\n",
    "plt.show()"
   ]
  },
  {
   "cell_type": "code",
   "execution_count": null,
   "id": "ee483024",
   "metadata": {},
   "outputs": [],
   "source": []
  }
 ],
 "metadata": {
  "kernelspec": {
   "display_name": "tensor",
   "language": "python",
   "name": "tensor"
  },
  "language_info": {
   "codemirror_mode": {
    "name": "ipython",
    "version": 3
   },
   "file_extension": ".py",
   "mimetype": "text/x-python",
   "name": "python",
   "nbconvert_exporter": "python",
   "pygments_lexer": "ipython3",
   "version": "3.9.13"
  }
 },
 "nbformat": 4,
 "nbformat_minor": 5
}
